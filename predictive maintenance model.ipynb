{
 "cells": [
  {
   "cell_type": "markdown",
   "metadata": {
    "id": "mQRfNDGybkOv"
   },
   "source": [
    "## Import Requirements and Data"
   ]
  },
  {
   "cell_type": "markdown",
   "metadata": {
    "id": "2lIQ8sBeb6vV"
   },
   "source": [
    "* Minimize false positives and false negatives."
   ]
  },
  {
   "cell_type": "code",
   "execution_count": 109,
   "metadata": {
    "colab": {
     "base_uri": "https://localhost:8080/"
    },
    "executionInfo": {
     "elapsed": 3277,
     "status": "ok",
     "timestamp": 1660310511946,
     "user": {
      "displayName": "Zahmet Yılmaz",
      "userId": "12121815919257021566"
     },
     "user_tz": -180
    },
    "id": "OrWw6FvphjDq",
    "outputId": "2a06f490-89c3-404d-b07e-4cfc7caa0432"
   },
   "outputs": [
    {
     "name": "stdout",
     "output_type": "stream",
     "text": [
      "Drive already mounted at /content/drive; to attempt to forcibly remount, call drive.mount(\"/content/drive\", force_remount=True).\n"
     ]
    }
   ],
   "source": [
    "from google.colab import drive\n",
    "drive.mount('/content/drive')"
   ]
  },
  {
   "cell_type": "code",
   "execution_count": 110,
   "metadata": {
    "executionInfo": {
     "elapsed": 19,
     "status": "ok",
     "timestamp": 1660310511947,
     "user": {
      "displayName": "Zahmet Yılmaz",
      "userId": "12121815919257021566"
     },
     "user_tz": -180
    },
    "id": "09Y3ThcLiBjQ"
   },
   "outputs": [],
   "source": [
    "import pandas as pd\n",
    "import numpy as np\n",
    "import matplotlib.pyplot as plt\n",
    "%matplotlib inline\n",
    "import seaborn as sns\n",
    "import warnings\n",
    "warnings.filterwarnings(\"ignore\")\n",
    "\n",
    "#Regression\n",
    "from sklearn.linear_model import LinearRegression, Ridge, Lasso, ElasticNet\n",
    "from sklearn.neighbors import KNeighborsRegressor\n",
    "from sklearn.ensemble import GradientBoostingRegressor\n",
    "from sklearn.tree import ExtraTreeRegressor, DecisionTreeRegressor\n",
    "from xgboost import XGBRegressor\n",
    "from sklearn.model_selection import train_test_split\n",
    "from sklearn.metrics import mean_squared_error,r2_score,mean_absolute_error\n",
    "from sklearn.preprocessing import normalize,scale\n",
    "\n",
    "#Classification\n",
    "from sklearn.naive_bayes import MultinomialNB, GaussianNB, BernoulliNB\n",
    "from sklearn.neighbors import KNeighborsClassifier\n",
    "from sklearn.svm import SVC\n",
    "from sklearn.tree import DecisionTreeClassifier\n",
    "from sklearn.linear_model import LogisticRegression\n",
    "from sklearn.ensemble import GradientBoostingClassifier, AdaBoostClassifier, RandomForestClassifier\n",
    "from xgboost import XGBClassifier\n",
    "from sklearn.metrics import classification_report,accuracy_score,confusion_matrix,precision_score,recall_score,f1_score"
   ]
  },
  {
   "cell_type": "code",
   "execution_count": 111,
   "metadata": {
    "executionInfo": {
     "elapsed": 19,
     "status": "ok",
     "timestamp": 1660310511947,
     "user": {
      "displayName": "Zahmet Yılmaz",
      "userId": "12121815919257021566"
     },
     "user_tz": -180
    },
    "id": "yvZENYfOiE5C"
   },
   "outputs": [],
   "source": [
    "def classification_(X,y): \n",
    "    xgbc=XGBClassifier()\n",
    "    g=GaussianNB()\n",
    "    b=BernoulliNB()\n",
    "    k=KNeighborsClassifier()\n",
    "    svc=SVC()\n",
    "    d=DecisionTreeClassifier()\n",
    "    log=LogisticRegression()\n",
    "    gbc=GradientBoostingClassifier()\n",
    "    mn=MultinomialNB()\n",
    "    rf=RandomForestClassifier()\n",
    "    ab=AdaBoostClassifier()\n",
    "    \n",
    "    algos=[xgbc,g,b,k,svc,d,log,gbc,mn,rf,ab]\n",
    "    algos_name=['XGBClassifier','Gaussian','Bernoulli','KNeighbors','SVC','DecisionTree','LogisticReg','GradientBoosting','MultinominalNB','RandomForest','AdaBoost']\n",
    "\n",
    "    X_train,X_test,y_train,y_test=train_test_split(X,y,test_size=.2,random_state=101)\n",
    "\n",
    "    accuracy = []\n",
    "    precision = []\n",
    "    recall = []\n",
    "    f1 = []\n",
    "   \n",
    "    result=pd.DataFrame(columns=['AccuracyScore','PrecisionScore','RecallScore','f1_Score'],index=algos_name)\n",
    "    \n",
    "    for i in algos:\n",
    "        predict=i.fit(X_train,y_train).predict(X_test)\n",
    "        accuracy.append(accuracy_score(y_test,predict))\n",
    "        precision.append(precision_score(y_test,predict))\n",
    "        recall.append(recall_score(y_test,predict))\n",
    "        f1.append(f1_score(y_test,predict))\n",
    "      \n",
    "    result.AccuracyScore=accuracy\n",
    "    result.PrecisionScore=precision\n",
    "    result.RecallScore=recall\n",
    "    result.f1_Score=f1\n",
    "    \n",
    "    return result.sort_values('f1_Score',ascending=False)"
   ]
  },
  {
   "cell_type": "code",
   "execution_count": 112,
   "metadata": {
    "executionInfo": {
     "elapsed": 20,
     "status": "ok",
     "timestamp": 1660310511948,
     "user": {
      "displayName": "Zahmet Yılmaz",
      "userId": "12121815919257021566"
     },
     "user_tz": -180
    },
    "id": "L0r0GCeFiPzc"
   },
   "outputs": [],
   "source": [
    "df = pd.read_csv('/content/drive/Othercomputers/My Laptop/0 Yaz Kampı/PBL1/2 - Build a predictive maintenance model for a delivery company/failure.csv')"
   ]
  },
  {
   "cell_type": "markdown",
   "metadata": {
    "id": "h13_vLMIcTc_"
   },
   "source": [
    "## EDA"
   ]
  },
  {
   "cell_type": "code",
   "execution_count": 113,
   "metadata": {
    "colab": {
     "base_uri": "https://localhost:8080/",
     "height": 206
    },
    "executionInfo": {
     "elapsed": 20,
     "status": "ok",
     "timestamp": 1660310511948,
     "user": {
      "displayName": "Zahmet Yılmaz",
      "userId": "12121815919257021566"
     },
     "user_tz": -180
    },
    "id": "hog_edpAVPEq",
    "outputId": "ca8fcf14-b72f-41ba-e008-f0596849e7c1"
   },
   "outputs": [
    {
     "data": {
      "text/html": [
       "\n",
       "  <div id=\"df-ccc7a824-ac35-4cd2-9309-c2917d05c245\">\n",
       "    <div class=\"colab-df-container\">\n",
       "      <div>\n",
       "<style scoped>\n",
       "    .dataframe tbody tr th:only-of-type {\n",
       "        vertical-align: middle;\n",
       "    }\n",
       "\n",
       "    .dataframe tbody tr th {\n",
       "        vertical-align: top;\n",
       "    }\n",
       "\n",
       "    .dataframe thead th {\n",
       "        text-align: right;\n",
       "    }\n",
       "</style>\n",
       "<table border=\"1\" class=\"dataframe\">\n",
       "  <thead>\n",
       "    <tr style=\"text-align: right;\">\n",
       "      <th></th>\n",
       "      <th>date</th>\n",
       "      <th>device</th>\n",
       "      <th>failure</th>\n",
       "      <th>attribute1</th>\n",
       "      <th>attribute2</th>\n",
       "      <th>attribute3</th>\n",
       "      <th>attribute4</th>\n",
       "      <th>attribute5</th>\n",
       "      <th>attribute6</th>\n",
       "      <th>attribute7</th>\n",
       "      <th>attribute8</th>\n",
       "      <th>attribute9</th>\n",
       "    </tr>\n",
       "  </thead>\n",
       "  <tbody>\n",
       "    <tr>\n",
       "      <th>118987</th>\n",
       "      <td>2015-09-14</td>\n",
       "      <td>S1F0JGJV</td>\n",
       "      <td>0</td>\n",
       "      <td>65459944</td>\n",
       "      <td>0</td>\n",
       "      <td>0</td>\n",
       "      <td>0</td>\n",
       "      <td>8</td>\n",
       "      <td>319745</td>\n",
       "      <td>16</td>\n",
       "      <td>16</td>\n",
       "      <td>0</td>\n",
       "    </tr>\n",
       "    <tr>\n",
       "      <th>64509</th>\n",
       "      <td>2015-04-01</td>\n",
       "      <td>S1F121LH</td>\n",
       "      <td>0</td>\n",
       "      <td>135395072</td>\n",
       "      <td>0</td>\n",
       "      <td>0</td>\n",
       "      <td>0</td>\n",
       "      <td>9</td>\n",
       "      <td>214194</td>\n",
       "      <td>0</td>\n",
       "      <td>0</td>\n",
       "      <td>0</td>\n",
       "    </tr>\n",
       "    <tr>\n",
       "      <th>76005</th>\n",
       "      <td>2015-04-29</td>\n",
       "      <td>Z1F18YB3</td>\n",
       "      <td>0</td>\n",
       "      <td>207344616</td>\n",
       "      <td>0</td>\n",
       "      <td>0</td>\n",
       "      <td>0</td>\n",
       "      <td>8</td>\n",
       "      <td>247583</td>\n",
       "      <td>0</td>\n",
       "      <td>0</td>\n",
       "      <td>0</td>\n",
       "    </tr>\n",
       "    <tr>\n",
       "      <th>66471</th>\n",
       "      <td>2015-04-05</td>\n",
       "      <td>S1F135WP</td>\n",
       "      <td>0</td>\n",
       "      <td>95375248</td>\n",
       "      <td>0</td>\n",
       "      <td>0</td>\n",
       "      <td>0</td>\n",
       "      <td>11</td>\n",
       "      <td>216707</td>\n",
       "      <td>0</td>\n",
       "      <td>0</td>\n",
       "      <td>0</td>\n",
       "    </tr>\n",
       "    <tr>\n",
       "      <th>33898</th>\n",
       "      <td>2015-02-13</td>\n",
       "      <td>W1F06QVP</td>\n",
       "      <td>0</td>\n",
       "      <td>120489224</td>\n",
       "      <td>0</td>\n",
       "      <td>0</td>\n",
       "      <td>0</td>\n",
       "      <td>8</td>\n",
       "      <td>321209</td>\n",
       "      <td>0</td>\n",
       "      <td>0</td>\n",
       "      <td>0</td>\n",
       "    </tr>\n",
       "  </tbody>\n",
       "</table>\n",
       "</div>\n",
       "      <button class=\"colab-df-convert\" onclick=\"convertToInteractive('df-ccc7a824-ac35-4cd2-9309-c2917d05c245')\"\n",
       "              title=\"Convert this dataframe to an interactive table.\"\n",
       "              style=\"display:none;\">\n",
       "        \n",
       "  <svg xmlns=\"http://www.w3.org/2000/svg\" height=\"24px\"viewBox=\"0 0 24 24\"\n",
       "       width=\"24px\">\n",
       "    <path d=\"M0 0h24v24H0V0z\" fill=\"none\"/>\n",
       "    <path d=\"M18.56 5.44l.94 2.06.94-2.06 2.06-.94-2.06-.94-.94-2.06-.94 2.06-2.06.94zm-11 1L8.5 8.5l.94-2.06 2.06-.94-2.06-.94L8.5 2.5l-.94 2.06-2.06.94zm10 10l.94 2.06.94-2.06 2.06-.94-2.06-.94-.94-2.06-.94 2.06-2.06.94z\"/><path d=\"M17.41 7.96l-1.37-1.37c-.4-.4-.92-.59-1.43-.59-.52 0-1.04.2-1.43.59L10.3 9.45l-7.72 7.72c-.78.78-.78 2.05 0 2.83L4 21.41c.39.39.9.59 1.41.59.51 0 1.02-.2 1.41-.59l7.78-7.78 2.81-2.81c.8-.78.8-2.07 0-2.86zM5.41 20L4 18.59l7.72-7.72 1.47 1.35L5.41 20z\"/>\n",
       "  </svg>\n",
       "      </button>\n",
       "      \n",
       "  <style>\n",
       "    .colab-df-container {\n",
       "      display:flex;\n",
       "      flex-wrap:wrap;\n",
       "      gap: 12px;\n",
       "    }\n",
       "\n",
       "    .colab-df-convert {\n",
       "      background-color: #E8F0FE;\n",
       "      border: none;\n",
       "      border-radius: 50%;\n",
       "      cursor: pointer;\n",
       "      display: none;\n",
       "      fill: #1967D2;\n",
       "      height: 32px;\n",
       "      padding: 0 0 0 0;\n",
       "      width: 32px;\n",
       "    }\n",
       "\n",
       "    .colab-df-convert:hover {\n",
       "      background-color: #E2EBFA;\n",
       "      box-shadow: 0px 1px 2px rgba(60, 64, 67, 0.3), 0px 1px 3px 1px rgba(60, 64, 67, 0.15);\n",
       "      fill: #174EA6;\n",
       "    }\n",
       "\n",
       "    [theme=dark] .colab-df-convert {\n",
       "      background-color: #3B4455;\n",
       "      fill: #D2E3FC;\n",
       "    }\n",
       "\n",
       "    [theme=dark] .colab-df-convert:hover {\n",
       "      background-color: #434B5C;\n",
       "      box-shadow: 0px 1px 3px 1px rgba(0, 0, 0, 0.15);\n",
       "      filter: drop-shadow(0px 1px 2px rgba(0, 0, 0, 0.3));\n",
       "      fill: #FFFFFF;\n",
       "    }\n",
       "  </style>\n",
       "\n",
       "      <script>\n",
       "        const buttonEl =\n",
       "          document.querySelector('#df-ccc7a824-ac35-4cd2-9309-c2917d05c245 button.colab-df-convert');\n",
       "        buttonEl.style.display =\n",
       "          google.colab.kernel.accessAllowed ? 'block' : 'none';\n",
       "\n",
       "        async function convertToInteractive(key) {\n",
       "          const element = document.querySelector('#df-ccc7a824-ac35-4cd2-9309-c2917d05c245');\n",
       "          const dataTable =\n",
       "            await google.colab.kernel.invokeFunction('convertToInteractive',\n",
       "                                                     [key], {});\n",
       "          if (!dataTable) return;\n",
       "\n",
       "          const docLinkHtml = 'Like what you see? Visit the ' +\n",
       "            '<a target=\"_blank\" href=https://colab.research.google.com/notebooks/data_table.ipynb>data table notebook</a>'\n",
       "            + ' to learn more about interactive tables.';\n",
       "          element.innerHTML = '';\n",
       "          dataTable['output_type'] = 'display_data';\n",
       "          await google.colab.output.renderOutput(dataTable, element);\n",
       "          const docLink = document.createElement('div');\n",
       "          docLink.innerHTML = docLinkHtml;\n",
       "          element.appendChild(docLink);\n",
       "        }\n",
       "      </script>\n",
       "    </div>\n",
       "  </div>\n",
       "  "
      ],
      "text/plain": [
       "              date    device  failure  attribute1  attribute2  attribute3  \\\n",
       "118987  2015-09-14  S1F0JGJV        0    65459944           0           0   \n",
       "64509   2015-04-01  S1F121LH        0   135395072           0           0   \n",
       "76005   2015-04-29  Z1F18YB3        0   207344616           0           0   \n",
       "66471   2015-04-05  S1F135WP        0    95375248           0           0   \n",
       "33898   2015-02-13  W1F06QVP        0   120489224           0           0   \n",
       "\n",
       "        attribute4  attribute5  attribute6  attribute7  attribute8  attribute9  \n",
       "118987           0           8      319745          16          16           0  \n",
       "64509            0           9      214194           0           0           0  \n",
       "76005            0           8      247583           0           0           0  \n",
       "66471            0          11      216707           0           0           0  \n",
       "33898            0           8      321209           0           0           0  "
      ]
     },
     "execution_count": 113,
     "metadata": {},
     "output_type": "execute_result"
    }
   ],
   "source": [
    "df.sample(5)"
   ]
  },
  {
   "cell_type": "code",
   "execution_count": 114,
   "metadata": {
    "colab": {
     "base_uri": "https://localhost:8080/"
    },
    "executionInfo": {
     "elapsed": 20,
     "status": "ok",
     "timestamp": 1660310511949,
     "user": {
      "displayName": "Zahmet Yılmaz",
      "userId": "12121815919257021566"
     },
     "user_tz": -180
    },
    "id": "O-3vFNp5SZ18",
    "outputId": "3e257c88-3e1c-4d28-ec12-f12caa453dc9"
   },
   "outputs": [
    {
     "name": "stdout",
     "output_type": "stream",
     "text": [
      "<class 'pandas.core.frame.DataFrame'>\n",
      "RangeIndex: 124494 entries, 0 to 124493\n",
      "Data columns (total 12 columns):\n",
      " #   Column      Non-Null Count   Dtype \n",
      "---  ------      --------------   ----- \n",
      " 0   date        124494 non-null  object\n",
      " 1   device      124494 non-null  object\n",
      " 2   failure     124494 non-null  int64 \n",
      " 3   attribute1  124494 non-null  int64 \n",
      " 4   attribute2  124494 non-null  int64 \n",
      " 5   attribute3  124494 non-null  int64 \n",
      " 6   attribute4  124494 non-null  int64 \n",
      " 7   attribute5  124494 non-null  int64 \n",
      " 8   attribute6  124494 non-null  int64 \n",
      " 9   attribute7  124494 non-null  int64 \n",
      " 10  attribute8  124494 non-null  int64 \n",
      " 11  attribute9  124494 non-null  int64 \n",
      "dtypes: int64(10), object(2)\n",
      "memory usage: 11.4+ MB\n"
     ]
    }
   ],
   "source": [
    "df.info()"
   ]
  },
  {
   "cell_type": "code",
   "execution_count": 115,
   "metadata": {
    "colab": {
     "base_uri": "https://localhost:8080/"
    },
    "executionInfo": {
     "elapsed": 17,
     "status": "ok",
     "timestamp": 1660310511950,
     "user": {
      "displayName": "Zahmet Yılmaz",
      "userId": "12121815919257021566"
     },
     "user_tz": -180
    },
    "id": "i2s8xY1wrA_3",
    "outputId": "a3df872d-1913-4807-9fab-70d6977aa85d"
   },
   "outputs": [
    {
     "data": {
      "text/plain": [
       "date          0\n",
       "device        0\n",
       "failure       0\n",
       "attribute1    0\n",
       "attribute2    0\n",
       "attribute3    0\n",
       "attribute4    0\n",
       "attribute5    0\n",
       "attribute6    0\n",
       "attribute7    0\n",
       "attribute8    0\n",
       "attribute9    0\n",
       "dtype: int64"
      ]
     },
     "execution_count": 115,
     "metadata": {},
     "output_type": "execute_result"
    }
   ],
   "source": [
    "df.isnull().sum() # bos veri yok"
   ]
  },
  {
   "cell_type": "code",
   "execution_count": 116,
   "metadata": {
    "colab": {
     "base_uri": "https://localhost:8080/",
     "height": 364
    },
    "executionInfo": {
     "elapsed": 719,
     "status": "ok",
     "timestamp": 1660310512655,
     "user": {
      "displayName": "Zahmet Yılmaz",
      "userId": "12121815919257021566"
     },
     "user_tz": -180
    },
    "id": "9JjIYB4UShY3",
    "outputId": "0855246b-54fc-44c2-b22d-c0b435d53db7"
   },
   "outputs": [
    {
     "data": {
      "image/png": "[encoded data removed]",
      "text/plain": [
       "<Figure size 720x360 with 2 Axes>"
      ]
     },
     "metadata": {
      "needs_background": "light"
     },
     "output_type": "display_data"
    }
   ],
   "source": [
    "plt.figure(figsize=(10,5))\n",
    "sns.heatmap(df.corr(), annot=True);"
   ]
  },
  {
   "cell_type": "code",
   "execution_count": 117,
   "metadata": {
    "executionInfo": {
     "elapsed": 8,
     "status": "ok",
     "timestamp": 1660310512655,
     "user": {
      "displayName": "Zahmet Yılmaz",
      "userId": "12121815919257021566"
     },
     "user_tz": -180
    },
    "id": "XFY1qlWpTA76"
   },
   "outputs": [],
   "source": [
    "# attribute7 ile attribute8 ayni birini sileriz\n",
    "df.drop(columns='attribute8', inplace=True)"
   ]
  },
  {
   "cell_type": "code",
   "execution_count": 118,
   "metadata": {
    "colab": {
     "base_uri": "https://localhost:8080/"
    },
    "executionInfo": {
     "elapsed": 7,
     "status": "ok",
     "timestamp": 1660310512655,
     "user": {
      "displayName": "Zahmet Yılmaz",
      "userId": "12121815919257021566"
     },
     "user_tz": -180
    },
    "id": "dMBl2_fecg3A",
    "outputId": "076324a8-bafc-42d0-c85d-d7a4f7d6a7a5"
   },
   "outputs": [
    {
     "data": {
      "text/plain": [
       "0    124388\n",
       "1       106\n",
       "Name: failure, dtype: int64"
      ]
     },
     "execution_count": 118,
     "metadata": {},
     "output_type": "execute_result"
    }
   ],
   "source": [
    "df['failure'].value_counts() # We have imbalanced data"
   ]
  },
  {
   "cell_type": "markdown",
   "metadata": {
    "id": "_nXF8hgO3N3g"
   },
   "source": [
    "### 2 defa failure olan cihaz"
   ]
  },
  {
   "cell_type": "code",
   "execution_count": 120,
   "metadata": {
    "colab": {
     "base_uri": "https://localhost:8080/"
    },
    "executionInfo": {
     "elapsed": 13,
     "status": "ok",
     "timestamp": 1660310513272,
     "user": {
      "displayName": "Zahmet Yılmaz",
      "userId": "12121815919257021566"
     },
     "user_tz": -180
    },
    "id": "XzDQmpkFRUCl",
    "outputId": "f0b10f97-d462-4e66-cb23-6f1cd8a68328"
   },
   "outputs": [
    {
     "data": {
      "text/plain": [
       "False"
      ]
     },
     "execution_count": 120,
     "metadata": {},
     "output_type": "execute_result"
    }
   ],
   "source": [
    "any(df[df.failure==1].device.value_counts().values>1) # yokmus"
   ]
  },
  {
   "cell_type": "markdown",
   "metadata": {
    "id": "RvvcllGp3e_M"
   },
   "source": [
    "### Feature Enginnering"
   ]
  },
  {
   "cell_type": "code",
   "execution_count": 121,
   "metadata": {
    "executionInfo": {
     "elapsed": 12,
     "status": "ok",
     "timestamp": 1660310513272,
     "user": {
      "displayName": "Zahmet Yılmaz",
      "userId": "12121815919257021566"
     },
     "user_tz": -180
    },
    "id": "4Jh8y8RnEEnH"
   },
   "outputs": [],
   "source": [
    "from sklearn.preprocessing import StandardScaler\n",
    "scaler = StandardScaler()"
   ]
  },
  {
   "cell_type": "code",
   "execution_count": 122,
   "metadata": {
    "executionInfo": {
     "elapsed": 13,
     "status": "ok",
     "timestamp": 1660310513273,
     "user": {
      "displayName": "Zahmet Yılmaz",
      "userId": "12121815919257021566"
     },
     "user_tz": -180
    },
    "id": "8RIdR7zwAdRx"
   },
   "outputs": [],
   "source": [
    "df['ever_fail'] = df.device.map(df.groupby('device')['failure'].max()) # en az 1 defa fail olup olmadigi"
   ]
  },
  {
   "cell_type": "code",
   "execution_count": 123,
   "metadata": {
    "executionInfo": {
     "elapsed": 12,
     "status": "ok",
     "timestamp": 1660310513273,
     "user": {
      "displayName": "Zahmet Yılmaz",
      "userId": "12121815919257021566"
     },
     "user_tz": -180
    },
    "id": "hbMiEAf0HAF1"
   },
   "outputs": [],
   "source": [
    "df['date']=pd.to_datetime(df['date']) # zaman farki alabilmek icin date i datetime a cevirdik"
   ]
  },
  {
   "cell_type": "code",
   "execution_count": 124,
   "metadata": {
    "executionInfo": {
     "elapsed": 12,
     "status": "ok",
     "timestamp": 1660310513273,
     "user": {
      "displayName": "Zahmet Yılmaz",
      "userId": "12121815919257021566"
     },
     "user_tz": -180
    },
    "id": "f3UGsUAeMglz"
   },
   "outputs": [],
   "source": [
    "df['day']=df['date'].dt.day\n",
    "df['month']=df['date'].dt.month\n",
    "df['year']=df['date'].dt.year"
   ]
  },
  {
   "cell_type": "code",
   "execution_count": 125,
   "metadata": {
    "executionInfo": {
     "elapsed": 12,
     "status": "ok",
     "timestamp": 1660310513273,
     "user": {
      "displayName": "Zahmet Yılmaz",
      "userId": "12121815919257021566"
     },
     "user_tz": -180
    },
    "id": "Zzw8W0NIMljo"
   },
   "outputs": [],
   "source": [
    "df['season'] = df.month % 12 // 3 + 1 # month to season\n",
    "df['season'] = df.season.astype('object')"
   ]
  },
  {
   "cell_type": "code",
   "execution_count": 126,
   "metadata": {
    "executionInfo": {
     "elapsed": 13,
     "status": "ok",
     "timestamp": 1660310513274,
     "user": {
      "displayName": "Zahmet Yılmaz",
      "userId": "12121815919257021566"
     },
     "user_tz": -180
    },
    "id": "-fziyvAoIhU3"
   },
   "outputs": [],
   "source": [
    "df['start_date'] = df.device.map(df.groupby('device')['date'].min()) # cihazin baslangic zamani"
   ]
  },
  {
   "cell_type": "code",
   "execution_count": 127,
   "metadata": {
    "executionInfo": {
     "elapsed": 13,
     "status": "ok",
     "timestamp": 1660310513274,
     "user": {
      "displayName": "Zahmet Yılmaz",
      "userId": "12121815919257021566"
     },
     "user_tz": -180
    },
    "id": "MBHbTQcfHjoo"
   },
   "outputs": [],
   "source": [
    "delta = df.date - df.start_date\n",
    "df['worked_days'] = delta.dt.days # cihazin calistigi gun sayisi"
   ]
  },
  {
   "cell_type": "code",
   "execution_count": 135,
   "metadata": {
    "executionInfo": {
     "elapsed": 2,
     "status": "ok",
     "timestamp": 1660310732503,
     "user": {
      "displayName": "Zahmet Yılmaz",
      "userId": "12121815919257021566"
     },
     "user_tz": -180
    },
    "id": "SGxUnG4ZOtqE"
   },
   "outputs": [],
   "source": [
    "df['device_type']=[i[:4] for i in df.device.values.tolist()] # cihaz tipi"
   ]
  },
  {
   "cell_type": "code",
   "execution_count": 142,
   "metadata": {
    "executionInfo": {
     "elapsed": 526,
     "status": "ok",
     "timestamp": 1660311131170,
     "user": {
      "displayName": "Zahmet Yılmaz",
      "userId": "12121815919257021566"
     },
     "user_tz": -180
    },
    "id": "X1wizCxiPo3t"
   },
   "outputs": [],
   "source": [
    "df['max_day'] = df.device.map(df.groupby('device')['worked_days'].max()) # max calisilan gun"
   ]
  },
  {
   "cell_type": "code",
   "execution_count": 145,
   "metadata": {
    "executionInfo": {
     "elapsed": 1069,
     "status": "ok",
     "timestamp": 1660311173854,
     "user": {
      "displayName": "Zahmet Yılmaz",
      "userId": "12121815919257021566"
     },
     "user_tz": -180
    },
    "id": "DEF3kSSYQSxK"
   },
   "outputs": [],
   "source": [
    "df['last_day'] = df.max_day == df.worked_days # kaydin son gun olup olmadigi"
   ]
  },
  {
   "cell_type": "code",
   "execution_count": 146,
   "metadata": {
    "colab": {
     "base_uri": "https://localhost:8080/",
     "height": 386
    },
    "executionInfo": {
     "elapsed": 518,
     "status": "ok",
     "timestamp": 1660311176929,
     "user": {
      "displayName": "Zahmet Yılmaz",
      "userId": "12121815919257021566"
     },
     "user_tz": -180
    },
    "id": "AtpTyQ7FOjFk",
    "outputId": "65d9135e-fa47-433b-a449-350aa0b49a3e"
   },
   "outputs": [
    {
     "data": {
      "text/html": [
       "\n",
       "  <div id=\"df-53882bfc-b307-4abe-a4fc-e3b48008ffe7\">\n",
       "    <div class=\"colab-df-container\">\n",
       "      <div>\n",
       "<style scoped>\n",
       "    .dataframe tbody tr th:only-of-type {\n",
       "        vertical-align: middle;\n",
       "    }\n",
       "\n",
       "    .dataframe tbody tr th {\n",
       "        vertical-align: top;\n",
       "    }\n",
       "\n",
       "    .dataframe thead th {\n",
       "        text-align: right;\n",
       "    }\n",
       "</style>\n",
       "<table border=\"1\" class=\"dataframe\">\n",
       "  <thead>\n",
       "    <tr style=\"text-align: right;\">\n",
       "      <th></th>\n",
       "      <th>date</th>\n",
       "      <th>device</th>\n",
       "      <th>failure</th>\n",
       "      <th>attribute1</th>\n",
       "      <th>attribute2</th>\n",
       "      <th>attribute3</th>\n",
       "      <th>attribute4</th>\n",
       "      <th>attribute5</th>\n",
       "      <th>attribute6</th>\n",
       "      <th>attribute7</th>\n",
       "      <th>...</th>\n",
       "      <th>ever_fail</th>\n",
       "      <th>day</th>\n",
       "      <th>month</th>\n",
       "      <th>year</th>\n",
       "      <th>season</th>\n",
       "      <th>start_date</th>\n",
       "      <th>worked_days</th>\n",
       "      <th>device_type</th>\n",
       "      <th>max_day</th>\n",
       "      <th>last_day</th>\n",
       "    </tr>\n",
       "  </thead>\n",
       "  <tbody>\n",
       "    <tr>\n",
       "      <th>17269</th>\n",
       "      <td>2015-01-21</td>\n",
       "      <td>S1F0PF5Q</td>\n",
       "      <td>0</td>\n",
       "      <td>196755648</td>\n",
       "      <td>0</td>\n",
       "      <td>0</td>\n",
       "      <td>0</td>\n",
       "      <td>12</td>\n",
       "      <td>265333</td>\n",
       "      <td>0</td>\n",
       "      <td>...</td>\n",
       "      <td>0</td>\n",
       "      <td>21</td>\n",
       "      <td>1</td>\n",
       "      <td>2015</td>\n",
       "      <td>1</td>\n",
       "      <td>2015-01-01</td>\n",
       "      <td>20</td>\n",
       "      <td>S1F0</td>\n",
       "      <td>47</td>\n",
       "      <td>False</td>\n",
       "    </tr>\n",
       "    <tr>\n",
       "      <th>2155</th>\n",
       "      <td>2015-01-02</td>\n",
       "      <td>Z1F0LCDA</td>\n",
       "      <td>0</td>\n",
       "      <td>42891776</td>\n",
       "      <td>0</td>\n",
       "      <td>0</td>\n",
       "      <td>0</td>\n",
       "      <td>6</td>\n",
       "      <td>195199</td>\n",
       "      <td>40</td>\n",
       "      <td>...</td>\n",
       "      <td>0</td>\n",
       "      <td>2</td>\n",
       "      <td>1</td>\n",
       "      <td>2015</td>\n",
       "      <td>1</td>\n",
       "      <td>2015-01-01</td>\n",
       "      <td>1</td>\n",
       "      <td>Z1F0</td>\n",
       "      <td>4</td>\n",
       "      <td>False</td>\n",
       "    </tr>\n",
       "    <tr>\n",
       "      <th>46950</th>\n",
       "      <td>2015-03-04</td>\n",
       "      <td>W1F0WN8P</td>\n",
       "      <td>0</td>\n",
       "      <td>205380520</td>\n",
       "      <td>0</td>\n",
       "      <td>0</td>\n",
       "      <td>0</td>\n",
       "      <td>7</td>\n",
       "      <td>191519</td>\n",
       "      <td>0</td>\n",
       "      <td>...</td>\n",
       "      <td>0</td>\n",
       "      <td>4</td>\n",
       "      <td>3</td>\n",
       "      <td>2015</td>\n",
       "      <td>2</td>\n",
       "      <td>2015-01-01</td>\n",
       "      <td>62</td>\n",
       "      <td>W1F0</td>\n",
       "      <td>85</td>\n",
       "      <td>False</td>\n",
       "    </tr>\n",
       "    <tr>\n",
       "      <th>52131</th>\n",
       "      <td>2015-03-12</td>\n",
       "      <td>S1F10BNL</td>\n",
       "      <td>0</td>\n",
       "      <td>597296</td>\n",
       "      <td>0</td>\n",
       "      <td>0</td>\n",
       "      <td>0</td>\n",
       "      <td>14</td>\n",
       "      <td>338421</td>\n",
       "      <td>0</td>\n",
       "      <td>...</td>\n",
       "      <td>0</td>\n",
       "      <td>12</td>\n",
       "      <td>3</td>\n",
       "      <td>2015</td>\n",
       "      <td>2</td>\n",
       "      <td>2015-01-01</td>\n",
       "      <td>70</td>\n",
       "      <td>S1F1</td>\n",
       "      <td>244</td>\n",
       "      <td>False</td>\n",
       "    </tr>\n",
       "    <tr>\n",
       "      <th>102602</th>\n",
       "      <td>2015-07-13</td>\n",
       "      <td>Z1F0LKEE</td>\n",
       "      <td>0</td>\n",
       "      <td>220306064</td>\n",
       "      <td>0</td>\n",
       "      <td>0</td>\n",
       "      <td>0</td>\n",
       "      <td>11</td>\n",
       "      <td>485390</td>\n",
       "      <td>0</td>\n",
       "      <td>...</td>\n",
       "      <td>0</td>\n",
       "      <td>13</td>\n",
       "      <td>7</td>\n",
       "      <td>2015</td>\n",
       "      <td>3</td>\n",
       "      <td>2015-01-01</td>\n",
       "      <td>193</td>\n",
       "      <td>Z1F0</td>\n",
       "      <td>284</td>\n",
       "      <td>False</td>\n",
       "    </tr>\n",
       "  </tbody>\n",
       "</table>\n",
       "<p>5 rows × 21 columns</p>\n",
       "</div>\n",
       "      <button class=\"colab-df-convert\" onclick=\"convertToInteractive('df-53882bfc-b307-4abe-a4fc-e3b48008ffe7')\"\n",
       "              title=\"Convert this dataframe to an interactive table.\"\n",
       "              style=\"display:none;\">\n",
       "        \n",
       "  <svg xmlns=\"http://www.w3.org/2000/svg\" height=\"24px\"viewBox=\"0 0 24 24\"\n",
       "       width=\"24px\">\n",
       "    <path d=\"M0 0h24v24H0V0z\" fill=\"none\"/>\n",
       "    <path d=\"M18.56 5.44l.94 2.06.94-2.06 2.06-.94-2.06-.94-.94-2.06-.94 2.06-2.06.94zm-11 1L8.5 8.5l.94-2.06 2.06-.94-2.06-.94L8.5 2.5l-.94 2.06-2.06.94zm10 10l.94 2.06.94-2.06 2.06-.94-2.06-.94-.94-2.06-.94 2.06-2.06.94z\"/><path d=\"M17.41 7.96l-1.37-1.37c-.4-.4-.92-.59-1.43-.59-.52 0-1.04.2-1.43.59L10.3 9.45l-7.72 7.72c-.78.78-.78 2.05 0 2.83L4 21.41c.39.39.9.59 1.41.59.51 0 1.02-.2 1.41-.59l7.78-7.78 2.81-2.81c.8-.78.8-2.07 0-2.86zM5.41 20L4 18.59l7.72-7.72 1.47 1.35L5.41 20z\"/>\n",
       "  </svg>\n",
       "      </button>\n",
       "      \n",
       "  <style>\n",
       "    .colab-df-container {\n",
       "      display:flex;\n",
       "      flex-wrap:wrap;\n",
       "      gap: 12px;\n",
       "    }\n",
       "\n",
       "    .colab-df-convert {\n",
       "      background-color: #E8F0FE;\n",
       "      border: none;\n",
       "      border-radius: 50%;\n",
       "      cursor: pointer;\n",
       "      display: none;\n",
       "      fill: #1967D2;\n",
       "      height: 32px;\n",
       "      padding: 0 0 0 0;\n",
       "      width: 32px;\n",
       "    }\n",
       "\n",
       "    .colab-df-convert:hover {\n",
       "      background-color: #E2EBFA;\n",
       "      box-shadow: 0px 1px 2px rgba(60, 64, 67, 0.3), 0px 1px 3px 1px rgba(60, 64, 67, 0.15);\n",
       "      fill: #174EA6;\n",
       "    }\n",
       "\n",
       "    [theme=dark] .colab-df-convert {\n",
       "      background-color: #3B4455;\n",
       "      fill: #D2E3FC;\n",
       "    }\n",
       "\n",
       "    [theme=dark] .colab-df-convert:hover {\n",
       "      background-color: #434B5C;\n",
       "      box-shadow: 0px 1px 3px 1px rgba(0, 0, 0, 0.15);\n",
       "      filter: drop-shadow(0px 1px 2px rgba(0, 0, 0, 0.3));\n",
       "      fill: #FFFFFF;\n",
       "    }\n",
       "  </style>\n",
       "\n",
       "      <script>\n",
       "        const buttonEl =\n",
       "          document.querySelector('#df-53882bfc-b307-4abe-a4fc-e3b48008ffe7 button.colab-df-convert');\n",
       "        buttonEl.style.display =\n",
       "          google.colab.kernel.accessAllowed ? 'block' : 'none';\n",
       "\n",
       "        async function convertToInteractive(key) {\n",
       "          const element = document.querySelector('#df-53882bfc-b307-4abe-a4fc-e3b48008ffe7');\n",
       "          const dataTable =\n",
       "            await google.colab.kernel.invokeFunction('convertToInteractive',\n",
       "                                                     [key], {});\n",
       "          if (!dataTable) return;\n",
       "\n",
       "          const docLinkHtml = 'Like what you see? Visit the ' +\n",
       "            '<a target=\"_blank\" href=https://colab.research.google.com/notebooks/data_table.ipynb>data table notebook</a>'\n",
       "            + ' to learn more about interactive tables.';\n",
       "          element.innerHTML = '';\n",
       "          dataTable['output_type'] = 'display_data';\n",
       "          await google.colab.output.renderOutput(dataTable, element);\n",
       "          const docLink = document.createElement('div');\n",
       "          docLink.innerHTML = docLinkHtml;\n",
       "          element.appendChild(docLink);\n",
       "        }\n",
       "      </script>\n",
       "    </div>\n",
       "  </div>\n",
       "  "
      ],
      "text/plain": [
       "             date    device  failure  attribute1  attribute2  attribute3  \\\n",
       "17269  2015-01-21  S1F0PF5Q        0   196755648           0           0   \n",
       "2155   2015-01-02  Z1F0LCDA        0    42891776           0           0   \n",
       "46950  2015-03-04  W1F0WN8P        0   205380520           0           0   \n",
       "52131  2015-03-12  S1F10BNL        0      597296           0           0   \n",
       "102602 2015-07-13  Z1F0LKEE        0   220306064           0           0   \n",
       "\n",
       "        attribute4  attribute5  attribute6  attribute7  ...  ever_fail  day  \\\n",
       "17269            0          12      265333           0  ...          0   21   \n",
       "2155             0           6      195199          40  ...          0    2   \n",
       "46950            0           7      191519           0  ...          0    4   \n",
       "52131            0          14      338421           0  ...          0   12   \n",
       "102602           0          11      485390           0  ...          0   13   \n",
       "\n",
       "        month  year  season start_date worked_days  device_type max_day  \\\n",
       "17269       1  2015       1 2015-01-01          20         S1F0      47   \n",
       "2155        1  2015       1 2015-01-01           1         Z1F0       4   \n",
       "46950       3  2015       2 2015-01-01          62         W1F0      85   \n",
       "52131       3  2015       2 2015-01-01          70         S1F1     244   \n",
       "102602      7  2015       3 2015-01-01         193         Z1F0     284   \n",
       "\n",
       "        last_day  \n",
       "17269      False  \n",
       "2155       False  \n",
       "46950      False  \n",
       "52131      False  \n",
       "102602     False  \n",
       "\n",
       "[5 rows x 21 columns]"
      ]
     },
     "execution_count": 146,
     "metadata": {},
     "output_type": "execute_result"
    }
   ],
   "source": [
    "df.sample(5)"
   ]
  },
  {
   "cell_type": "markdown",
   "metadata": {
    "id": "nb5zmhWvOU_i"
   },
   "source": [
    "## Her Cihazin Son Kaydinin Alinmasi"
   ]
  },
  {
   "cell_type": "code",
   "execution_count": 148,
   "metadata": {
    "executionInfo": {
     "elapsed": 6,
     "status": "ok",
     "timestamp": 1660311225879,
     "user": {
      "displayName": "Zahmet Yılmaz",
      "userId": "12121815919257021566"
     },
     "user_tz": -180
    },
    "id": "GYI1qGKFPK9W"
   },
   "outputs": [],
   "source": [
    "df_last = df[df.last_day==True]"
   ]
  },
  {
   "cell_type": "code",
   "execution_count": 151,
   "metadata": {
    "colab": {
     "base_uri": "https://localhost:8080/",
     "height": 386
    },
    "executionInfo": {
     "elapsed": 4,
     "status": "ok",
     "timestamp": 1660311264489,
     "user": {
      "displayName": "Zahmet Yılmaz",
      "userId": "12121815919257021566"
     },
     "user_tz": -180
    },
    "id": "hfcFDS0MQ0Jp",
    "outputId": "51a281c3-e8ad-4ee8-edb3-6e0aa1f723ac"
   },
   "outputs": [
    {
     "data": {
      "text/html": [
       "\n",
       "  <div id=\"df-acaa7b07-51cd-45d0-8176-a1b2b70a72eb\">\n",
       "    <div class=\"colab-df-container\">\n",
       "      <div>\n",
       "<style scoped>\n",
       "    .dataframe tbody tr th:only-of-type {\n",
       "        vertical-align: middle;\n",
       "    }\n",
       "\n",
       "    .dataframe tbody tr th {\n",
       "        vertical-align: top;\n",
       "    }\n",
       "\n",
       "    .dataframe thead th {\n",
       "        text-align: right;\n",
       "    }\n",
       "</style>\n",
       "<table border=\"1\" class=\"dataframe\">\n",
       "  <thead>\n",
       "    <tr style=\"text-align: right;\">\n",
       "      <th></th>\n",
       "      <th>date</th>\n",
       "      <th>device</th>\n",
       "      <th>failure</th>\n",
       "      <th>attribute1</th>\n",
       "      <th>attribute2</th>\n",
       "      <th>attribute3</th>\n",
       "      <th>attribute4</th>\n",
       "      <th>attribute5</th>\n",
       "      <th>attribute6</th>\n",
       "      <th>attribute7</th>\n",
       "      <th>...</th>\n",
       "      <th>ever_fail</th>\n",
       "      <th>day</th>\n",
       "      <th>month</th>\n",
       "      <th>year</th>\n",
       "      <th>season</th>\n",
       "      <th>start_date</th>\n",
       "      <th>worked_days</th>\n",
       "      <th>device_type</th>\n",
       "      <th>max_day</th>\n",
       "      <th>last_day</th>\n",
       "    </tr>\n",
       "  </thead>\n",
       "  <tbody>\n",
       "    <tr>\n",
       "      <th>78335</th>\n",
       "      <td>2015-05-06</td>\n",
       "      <td>S1F136J0</td>\n",
       "      <td>0</td>\n",
       "      <td>194511456</td>\n",
       "      <td>0</td>\n",
       "      <td>0</td>\n",
       "      <td>28</td>\n",
       "      <td>16</td>\n",
       "      <td>343593</td>\n",
       "      <td>0</td>\n",
       "      <td>...</td>\n",
       "      <td>1</td>\n",
       "      <td>6</td>\n",
       "      <td>5</td>\n",
       "      <td>2015</td>\n",
       "      <td>2</td>\n",
       "      <td>2015-01-01</td>\n",
       "      <td>125</td>\n",
       "      <td>S1F1</td>\n",
       "      <td>125</td>\n",
       "      <td>True</td>\n",
       "    </tr>\n",
       "    <tr>\n",
       "      <th>112375</th>\n",
       "      <td>2015-08-12</td>\n",
       "      <td>S1F0RVVR</td>\n",
       "      <td>0</td>\n",
       "      <td>150247120</td>\n",
       "      <td>0</td>\n",
       "      <td>0</td>\n",
       "      <td>0</td>\n",
       "      <td>8</td>\n",
       "      <td>189926</td>\n",
       "      <td>0</td>\n",
       "      <td>...</td>\n",
       "      <td>0</td>\n",
       "      <td>12</td>\n",
       "      <td>8</td>\n",
       "      <td>2015</td>\n",
       "      <td>3</td>\n",
       "      <td>2015-01-01</td>\n",
       "      <td>223</td>\n",
       "      <td>S1F0</td>\n",
       "      <td>223</td>\n",
       "      <td>True</td>\n",
       "    </tr>\n",
       "    <tr>\n",
       "      <th>5664</th>\n",
       "      <td>2015-01-05</td>\n",
       "      <td>Z1F0LR8G</td>\n",
       "      <td>0</td>\n",
       "      <td>126983536</td>\n",
       "      <td>0</td>\n",
       "      <td>0</td>\n",
       "      <td>0</td>\n",
       "      <td>6</td>\n",
       "      <td>205488</td>\n",
       "      <td>0</td>\n",
       "      <td>...</td>\n",
       "      <td>0</td>\n",
       "      <td>5</td>\n",
       "      <td>1</td>\n",
       "      <td>2015</td>\n",
       "      <td>1</td>\n",
       "      <td>2015-01-01</td>\n",
       "      <td>4</td>\n",
       "      <td>Z1F0</td>\n",
       "      <td>4</td>\n",
       "      <td>True</td>\n",
       "    </tr>\n",
       "    <tr>\n",
       "      <th>6689</th>\n",
       "      <td>2015-01-06</td>\n",
       "      <td>Z1F06WA0</td>\n",
       "      <td>0</td>\n",
       "      <td>115355024</td>\n",
       "      <td>0</td>\n",
       "      <td>0</td>\n",
       "      <td>12</td>\n",
       "      <td>9</td>\n",
       "      <td>384248</td>\n",
       "      <td>0</td>\n",
       "      <td>...</td>\n",
       "      <td>0</td>\n",
       "      <td>6</td>\n",
       "      <td>1</td>\n",
       "      <td>2015</td>\n",
       "      <td>1</td>\n",
       "      <td>2015-01-01</td>\n",
       "      <td>5</td>\n",
       "      <td>Z1F0</td>\n",
       "      <td>5</td>\n",
       "      <td>True</td>\n",
       "    </tr>\n",
       "    <tr>\n",
       "      <th>107586</th>\n",
       "      <td>2015-07-28</td>\n",
       "      <td>W1F14XGD</td>\n",
       "      <td>1</td>\n",
       "      <td>89738992</td>\n",
       "      <td>15336</td>\n",
       "      <td>0</td>\n",
       "      <td>0</td>\n",
       "      <td>12</td>\n",
       "      <td>242949</td>\n",
       "      <td>0</td>\n",
       "      <td>...</td>\n",
       "      <td>1</td>\n",
       "      <td>28</td>\n",
       "      <td>7</td>\n",
       "      <td>2015</td>\n",
       "      <td>3</td>\n",
       "      <td>2015-01-01</td>\n",
       "      <td>208</td>\n",
       "      <td>W1F1</td>\n",
       "      <td>208</td>\n",
       "      <td>True</td>\n",
       "    </tr>\n",
       "  </tbody>\n",
       "</table>\n",
       "<p>5 rows × 21 columns</p>\n",
       "</div>\n",
       "      <button class=\"colab-df-convert\" onclick=\"convertToInteractive('df-acaa7b07-51cd-45d0-8176-a1b2b70a72eb')\"\n",
       "              title=\"Convert this dataframe to an interactive table.\"\n",
       "              style=\"display:none;\">\n",
       "        \n",
       "  <svg xmlns=\"http://www.w3.org/2000/svg\" height=\"24px\"viewBox=\"0 0 24 24\"\n",
       "       width=\"24px\">\n",
       "    <path d=\"M0 0h24v24H0V0z\" fill=\"none\"/>\n",
       "    <path d=\"M18.56 5.44l.94 2.06.94-2.06 2.06-.94-2.06-.94-.94-2.06-.94 2.06-2.06.94zm-11 1L8.5 8.5l.94-2.06 2.06-.94-2.06-.94L8.5 2.5l-.94 2.06-2.06.94zm10 10l.94 2.06.94-2.06 2.06-.94-2.06-.94-.94-2.06-.94 2.06-2.06.94z\"/><path d=\"M17.41 7.96l-1.37-1.37c-.4-.4-.92-.59-1.43-.59-.52 0-1.04.2-1.43.59L10.3 9.45l-7.72 7.72c-.78.78-.78 2.05 0 2.83L4 21.41c.39.39.9.59 1.41.59.51 0 1.02-.2 1.41-.59l7.78-7.78 2.81-2.81c.8-.78.8-2.07 0-2.86zM5.41 20L4 18.59l7.72-7.72 1.47 1.35L5.41 20z\"/>\n",
       "  </svg>\n",
       "      </button>\n",
       "      \n",
       "  <style>\n",
       "    .colab-df-container {\n",
       "      display:flex;\n",
       "      flex-wrap:wrap;\n",
       "      gap: 12px;\n",
       "    }\n",
       "\n",
       "    .colab-df-convert {\n",
       "      background-color: #E8F0FE;\n",
       "      border: none;\n",
       "      border-radius: 50%;\n",
       "      cursor: pointer;\n",
       "      display: none;\n",
       "      fill: #1967D2;\n",
       "      height: 32px;\n",
       "      padding: 0 0 0 0;\n",
       "      width: 32px;\n",
       "    }\n",
       "\n",
       "    .colab-df-convert:hover {\n",
       "      background-color: #E2EBFA;\n",
       "      box-shadow: 0px 1px 2px rgba(60, 64, 67, 0.3), 0px 1px 3px 1px rgba(60, 64, 67, 0.15);\n",
       "      fill: #174EA6;\n",
       "    }\n",
       "\n",
       "    [theme=dark] .colab-df-convert {\n",
       "      background-color: #3B4455;\n",
       "      fill: #D2E3FC;\n",
       "    }\n",
       "\n",
       "    [theme=dark] .colab-df-convert:hover {\n",
       "      background-color: #434B5C;\n",
       "      box-shadow: 0px 1px 3px 1px rgba(0, 0, 0, 0.15);\n",
       "      filter: drop-shadow(0px 1px 2px rgba(0, 0, 0, 0.3));\n",
       "      fill: #FFFFFF;\n",
       "    }\n",
       "  </style>\n",
       "\n",
       "      <script>\n",
       "        const buttonEl =\n",
       "          document.querySelector('#df-acaa7b07-51cd-45d0-8176-a1b2b70a72eb button.colab-df-convert');\n",
       "        buttonEl.style.display =\n",
       "          google.colab.kernel.accessAllowed ? 'block' : 'none';\n",
       "\n",
       "        async function convertToInteractive(key) {\n",
       "          const element = document.querySelector('#df-acaa7b07-51cd-45d0-8176-a1b2b70a72eb');\n",
       "          const dataTable =\n",
       "            await google.colab.kernel.invokeFunction('convertToInteractive',\n",
       "                                                     [key], {});\n",
       "          if (!dataTable) return;\n",
       "\n",
       "          const docLinkHtml = 'Like what you see? Visit the ' +\n",
       "            '<a target=\"_blank\" href=https://colab.research.google.com/notebooks/data_table.ipynb>data table notebook</a>'\n",
       "            + ' to learn more about interactive tables.';\n",
       "          element.innerHTML = '';\n",
       "          dataTable['output_type'] = 'display_data';\n",
       "          await google.colab.output.renderOutput(dataTable, element);\n",
       "          const docLink = document.createElement('div');\n",
       "          docLink.innerHTML = docLinkHtml;\n",
       "          element.appendChild(docLink);\n",
       "        }\n",
       "      </script>\n",
       "    </div>\n",
       "  </div>\n",
       "  "
      ],
      "text/plain": [
       "             date    device  failure  attribute1  attribute2  attribute3  \\\n",
       "78335  2015-05-06  S1F136J0        0   194511456           0           0   \n",
       "112375 2015-08-12  S1F0RVVR        0   150247120           0           0   \n",
       "5664   2015-01-05  Z1F0LR8G        0   126983536           0           0   \n",
       "6689   2015-01-06  Z1F06WA0        0   115355024           0           0   \n",
       "107586 2015-07-28  W1F14XGD        1    89738992       15336           0   \n",
       "\n",
       "        attribute4  attribute5  attribute6  attribute7  ...  ever_fail  day  \\\n",
       "78335           28          16      343593           0  ...          1    6   \n",
       "112375           0           8      189926           0  ...          0   12   \n",
       "5664             0           6      205488           0  ...          0    5   \n",
       "6689            12           9      384248           0  ...          0    6   \n",
       "107586           0          12      242949           0  ...          1   28   \n",
       "\n",
       "        month  year  season start_date worked_days  device_type max_day  \\\n",
       "78335       5  2015       2 2015-01-01         125         S1F1     125   \n",
       "112375      8  2015       3 2015-01-01         223         S1F0     223   \n",
       "5664        1  2015       1 2015-01-01           4         Z1F0       4   \n",
       "6689        1  2015       1 2015-01-01           5         Z1F0       5   \n",
       "107586      7  2015       3 2015-01-01         208         W1F1     208   \n",
       "\n",
       "        last_day  \n",
       "78335       True  \n",
       "112375      True  \n",
       "5664        True  \n",
       "6689        True  \n",
       "107586      True  \n",
       "\n",
       "[5 rows x 21 columns]"
      ]
     },
     "execution_count": 151,
     "metadata": {},
     "output_type": "execute_result"
    }
   ],
   "source": [
    "df_last.sample(5)"
   ]
  },
  {
   "cell_type": "markdown",
   "metadata": {
    "id": "TlhTL4eCQ2Sg"
   },
   "source": [
    "Silinecekler:\n",
    "\n",
    "*date, device, ever_fail, day, month, year, start_date, max_day, last_day"
   ]
  },
  {
   "cell_type": "code",
   "execution_count": 152,
   "metadata": {
    "executionInfo": {
     "elapsed": 2,
     "status": "ok",
     "timestamp": 1660311451571,
     "user": {
      "displayName": "Zahmet Yılmaz",
      "userId": "12121815919257021566"
     },
     "user_tz": -180
    },
    "id": "gVoOhsd-RZWY"
   },
   "outputs": [],
   "source": [
    "df_last.drop(columns=['date', 'device', 'ever_fail', 'day', 'month', 'year', 'start_date', 'max_day', 'last_day'], inplace=True)"
   ]
  },
  {
   "cell_type": "code",
   "execution_count": 153,
   "metadata": {
    "colab": {
     "base_uri": "https://localhost:8080/",
     "height": 300
    },
    "executionInfo": {
     "elapsed": 4,
     "status": "ok",
     "timestamp": 1660311454640,
     "user": {
      "displayName": "Zahmet Yılmaz",
      "userId": "12121815919257021566"
     },
     "user_tz": -180
    },
    "id": "M14NGRwaLabW",
    "outputId": "a7111ef2-f4a5-406c-fed4-d285d6883569"
   },
   "outputs": [
    {
     "data": {
      "text/html": [
       "\n",
       "  <div id=\"df-b88df2fc-920c-487f-a553-35882164c038\">\n",
       "    <div class=\"colab-df-container\">\n",
       "      <div>\n",
       "<style scoped>\n",
       "    .dataframe tbody tr th:only-of-type {\n",
       "        vertical-align: middle;\n",
       "    }\n",
       "\n",
       "    .dataframe tbody tr th {\n",
       "        vertical-align: top;\n",
       "    }\n",
       "\n",
       "    .dataframe thead th {\n",
       "        text-align: right;\n",
       "    }\n",
       "</style>\n",
       "<table border=\"1\" class=\"dataframe\">\n",
       "  <thead>\n",
       "    <tr style=\"text-align: right;\">\n",
       "      <th></th>\n",
       "      <th>failure</th>\n",
       "      <th>attribute1</th>\n",
       "      <th>attribute2</th>\n",
       "      <th>attribute3</th>\n",
       "      <th>attribute4</th>\n",
       "      <th>attribute5</th>\n",
       "      <th>attribute6</th>\n",
       "      <th>attribute7</th>\n",
       "      <th>attribute9</th>\n",
       "      <th>worked_days</th>\n",
       "    </tr>\n",
       "  </thead>\n",
       "  <tbody>\n",
       "    <tr>\n",
       "      <th>count</th>\n",
       "      <td>1168.000000</td>\n",
       "      <td>1.168000e+03</td>\n",
       "      <td>1168.000000</td>\n",
       "      <td>1168.000000</td>\n",
       "      <td>1168.000000</td>\n",
       "      <td>1168.000000</td>\n",
       "      <td>1168.000000</td>\n",
       "      <td>1168.000000</td>\n",
       "      <td>1168.000000</td>\n",
       "      <td>1168.000000</td>\n",
       "    </tr>\n",
       "    <tr>\n",
       "      <th>mean</th>\n",
       "      <td>0.086473</td>\n",
       "      <td>1.220673e+08</td>\n",
       "      <td>873.006849</td>\n",
       "      <td>31.270548</td>\n",
       "      <td>9.816781</td>\n",
       "      <td>12.442637</td>\n",
       "      <td>270190.081336</td>\n",
       "      <td>4.446918</td>\n",
       "      <td>49.273116</td>\n",
       "      <td>111.567637</td>\n",
       "    </tr>\n",
       "    <tr>\n",
       "      <th>std</th>\n",
       "      <td>0.281181</td>\n",
       "      <td>7.035912e+07</td>\n",
       "      <td>5993.391146</td>\n",
       "      <td>738.567698</td>\n",
       "      <td>78.979344</td>\n",
       "      <td>12.371227</td>\n",
       "      <td>104361.153976</td>\n",
       "      <td>43.744396</td>\n",
       "      <td>678.406911</td>\n",
       "      <td>103.990601</td>\n",
       "    </tr>\n",
       "    <tr>\n",
       "      <th>min</th>\n",
       "      <td>0.000000</td>\n",
       "      <td>0.000000e+00</td>\n",
       "      <td>0.000000</td>\n",
       "      <td>0.000000</td>\n",
       "      <td>0.000000</td>\n",
       "      <td>1.000000</td>\n",
       "      <td>12.000000</td>\n",
       "      <td>0.000000</td>\n",
       "      <td>0.000000</td>\n",
       "      <td>2.000000</td>\n",
       "    </tr>\n",
       "    <tr>\n",
       "      <th>25%</th>\n",
       "      <td>0.000000</td>\n",
       "      <td>5.969821e+07</td>\n",
       "      <td>0.000000</td>\n",
       "      <td>0.000000</td>\n",
       "      <td>0.000000</td>\n",
       "      <td>7.000000</td>\n",
       "      <td>212482.250000</td>\n",
       "      <td>0.000000</td>\n",
       "      <td>0.000000</td>\n",
       "      <td>5.000000</td>\n",
       "    </tr>\n",
       "    <tr>\n",
       "      <th>50%</th>\n",
       "      <td>0.000000</td>\n",
       "      <td>1.221506e+08</td>\n",
       "      <td>0.000000</td>\n",
       "      <td>0.000000</td>\n",
       "      <td>0.000000</td>\n",
       "      <td>9.000000</td>\n",
       "      <td>261072.000000</td>\n",
       "      <td>0.000000</td>\n",
       "      <td>0.000000</td>\n",
       "      <td>85.000000</td>\n",
       "    </tr>\n",
       "    <tr>\n",
       "      <th>75%</th>\n",
       "      <td>0.000000</td>\n",
       "      <td>1.823452e+08</td>\n",
       "      <td>0.000000</td>\n",
       "      <td>0.000000</td>\n",
       "      <td>0.000000</td>\n",
       "      <td>12.000000</td>\n",
       "      <td>328148.250000</td>\n",
       "      <td>0.000000</td>\n",
       "      <td>1.000000</td>\n",
       "      <td>225.000000</td>\n",
       "    </tr>\n",
       "    <tr>\n",
       "      <th>max</th>\n",
       "      <td>1.000000</td>\n",
       "      <td>2.433294e+08</td>\n",
       "      <td>64792.000000</td>\n",
       "      <td>24929.000000</td>\n",
       "      <td>1666.000000</td>\n",
       "      <td>98.000000</td>\n",
       "      <td>689161.000000</td>\n",
       "      <td>832.000000</td>\n",
       "      <td>18701.000000</td>\n",
       "      <td>305.000000</td>\n",
       "    </tr>\n",
       "  </tbody>\n",
       "</table>\n",
       "</div>\n",
       "      <button class=\"colab-df-convert\" onclick=\"convertToInteractive('df-b88df2fc-920c-487f-a553-35882164c038')\"\n",
       "              title=\"Convert this dataframe to an interactive table.\"\n",
       "              style=\"display:none;\">\n",
       "        \n",
       "  <svg xmlns=\"http://www.w3.org/2000/svg\" height=\"24px\"viewBox=\"0 0 24 24\"\n",
       "       width=\"24px\">\n",
       "    <path d=\"M0 0h24v24H0V0z\" fill=\"none\"/>\n",
       "    <path d=\"M18.56 5.44l.94 2.06.94-2.06 2.06-.94-2.06-.94-.94-2.06-.94 2.06-2.06.94zm-11 1L8.5 8.5l.94-2.06 2.06-.94-2.06-.94L8.5 2.5l-.94 2.06-2.06.94zm10 10l.94 2.06.94-2.06 2.06-.94-2.06-.94-.94-2.06-.94 2.06-2.06.94z\"/><path d=\"M17.41 7.96l-1.37-1.37c-.4-.4-.92-.59-1.43-.59-.52 0-1.04.2-1.43.59L10.3 9.45l-7.72 7.72c-.78.78-.78 2.05 0 2.83L4 21.41c.39.39.9.59 1.41.59.51 0 1.02-.2 1.41-.59l7.78-7.78 2.81-2.81c.8-.78.8-2.07 0-2.86zM5.41 20L4 18.59l7.72-7.72 1.47 1.35L5.41 20z\"/>\n",
       "  </svg>\n",
       "      </button>\n",
       "      \n",
       "  <style>\n",
       "    .colab-df-container {\n",
       "      display:flex;\n",
       "      flex-wrap:wrap;\n",
       "      gap: 12px;\n",
       "    }\n",
       "\n",
       "    .colab-df-convert {\n",
       "      background-color: #E8F0FE;\n",
       "      border: none;\n",
       "      border-radius: 50%;\n",
       "      cursor: pointer;\n",
       "      display: none;\n",
       "      fill: #1967D2;\n",
       "      height: 32px;\n",
       "      padding: 0 0 0 0;\n",
       "      width: 32px;\n",
       "    }\n",
       "\n",
       "    .colab-df-convert:hover {\n",
       "      background-color: #E2EBFA;\n",
       "      box-shadow: 0px 1px 2px rgba(60, 64, 67, 0.3), 0px 1px 3px 1px rgba(60, 64, 67, 0.15);\n",
       "      fill: #174EA6;\n",
       "    }\n",
       "\n",
       "    [theme=dark] .colab-df-convert {\n",
       "      background-color: #3B4455;\n",
       "      fill: #D2E3FC;\n",
       "    }\n",
       "\n",
       "    [theme=dark] .colab-df-convert:hover {\n",
       "      background-color: #434B5C;\n",
       "      box-shadow: 0px 1px 3px 1px rgba(0, 0, 0, 0.15);\n",
       "      filter: drop-shadow(0px 1px 2px rgba(0, 0, 0, 0.3));\n",
       "      fill: #FFFFFF;\n",
       "    }\n",
       "  </style>\n",
       "\n",
       "      <script>\n",
       "        const buttonEl =\n",
       "          document.querySelector('#df-b88df2fc-920c-487f-a553-35882164c038 button.colab-df-convert');\n",
       "        buttonEl.style.display =\n",
       "          google.colab.kernel.accessAllowed ? 'block' : 'none';\n",
       "\n",
       "        async function convertToInteractive(key) {\n",
       "          const element = document.querySelector('#df-b88df2fc-920c-487f-a553-35882164c038');\n",
       "          const dataTable =\n",
       "            await google.colab.kernel.invokeFunction('convertToInteractive',\n",
       "                                                     [key], {});\n",
       "          if (!dataTable) return;\n",
       "\n",
       "          const docLinkHtml = 'Like what you see? Visit the ' +\n",
       "            '<a target=\"_blank\" href=https://colab.research.google.com/notebooks/data_table.ipynb>data table notebook</a>'\n",
       "            + ' to learn more about interactive tables.';\n",
       "          element.innerHTML = '';\n",
       "          dataTable['output_type'] = 'display_data';\n",
       "          await google.colab.output.renderOutput(dataTable, element);\n",
       "          const docLink = document.createElement('div');\n",
       "          docLink.innerHTML = docLinkHtml;\n",
       "          element.appendChild(docLink);\n",
       "        }\n",
       "      </script>\n",
       "    </div>\n",
       "  </div>\n",
       "  "
      ],
      "text/plain": [
       "           failure    attribute1    attribute2    attribute3   attribute4  \\\n",
       "count  1168.000000  1.168000e+03   1168.000000   1168.000000  1168.000000   \n",
       "mean      0.086473  1.220673e+08    873.006849     31.270548     9.816781   \n",
       "std       0.281181  7.035912e+07   5993.391146    738.567698    78.979344   \n",
       "min       0.000000  0.000000e+00      0.000000      0.000000     0.000000   \n",
       "25%       0.000000  5.969821e+07      0.000000      0.000000     0.000000   \n",
       "50%       0.000000  1.221506e+08      0.000000      0.000000     0.000000   \n",
       "75%       0.000000  1.823452e+08      0.000000      0.000000     0.000000   \n",
       "max       1.000000  2.433294e+08  64792.000000  24929.000000  1666.000000   \n",
       "\n",
       "        attribute5     attribute6   attribute7    attribute9  worked_days  \n",
       "count  1168.000000    1168.000000  1168.000000   1168.000000  1168.000000  \n",
       "mean     12.442637  270190.081336     4.446918     49.273116   111.567637  \n",
       "std      12.371227  104361.153976    43.744396    678.406911   103.990601  \n",
       "min       1.000000      12.000000     0.000000      0.000000     2.000000  \n",
       "25%       7.000000  212482.250000     0.000000      0.000000     5.000000  \n",
       "50%       9.000000  261072.000000     0.000000      0.000000    85.000000  \n",
       "75%      12.000000  328148.250000     0.000000      1.000000   225.000000  \n",
       "max      98.000000  689161.000000   832.000000  18701.000000   305.000000  "
      ]
     },
     "execution_count": 153,
     "metadata": {},
     "output_type": "execute_result"
    }
   ],
   "source": [
    "df_last.describe()"
   ]
  },
  {
   "cell_type": "code",
   "execution_count": 155,
   "metadata": {
    "colab": {
     "base_uri": "https://localhost:8080/"
    },
    "executionInfo": {
     "elapsed": 654,
     "status": "ok",
     "timestamp": 1660311479729,
     "user": {
      "displayName": "Zahmet Yılmaz",
      "userId": "12121815919257021566"
     },
     "user_tz": -180
    },
    "id": "TOAJy6cqRolj",
    "outputId": "a808226b-6d6c-4695-bccd-d0dfd6e9653c"
   },
   "outputs": [
    {
     "name": "stdout",
     "output_type": "stream",
     "text": [
      "<class 'pandas.core.frame.DataFrame'>\n",
      "Int64Index: 1168 entries, 3051 to 124493\n",
      "Data columns (total 12 columns):\n",
      " #   Column       Non-Null Count  Dtype \n",
      "---  ------       --------------  ----- \n",
      " 0   failure      1168 non-null   int64 \n",
      " 1   attribute1   1168 non-null   int64 \n",
      " 2   attribute2   1168 non-null   int64 \n",
      " 3   attribute3   1168 non-null   int64 \n",
      " 4   attribute4   1168 non-null   int64 \n",
      " 5   attribute5   1168 non-null   int64 \n",
      " 6   attribute6   1168 non-null   int64 \n",
      " 7   attribute7   1168 non-null   int64 \n",
      " 8   attribute9   1168 non-null   int64 \n",
      " 9   season       1168 non-null   object\n",
      " 10  worked_days  1168 non-null   int64 \n",
      " 11  device_type  1168 non-null   object\n",
      "dtypes: int64(10), object(2)\n",
      "memory usage: 118.6+ KB\n"
     ]
    }
   ],
   "source": [
    "df_last.info()"
   ]
  },
  {
   "cell_type": "code",
   "execution_count": 154,
   "metadata": {
    "colab": {
     "base_uri": "https://localhost:8080/"
    },
    "executionInfo": {
     "elapsed": 608,
     "status": "ok",
     "timestamp": 1660311464981,
     "user": {
      "displayName": "Zahmet Yılmaz",
      "userId": "12121815919257021566"
     },
     "user_tz": -180
    },
    "id": "z3RWKZ2XSb8I",
    "outputId": "4a532cad-7658-42a8-850a-65a4c97ad2d6"
   },
   "outputs": [
    {
     "data": {
      "text/plain": [
       "failure           2\n",
       "attribute1     1167\n",
       "attribute2      118\n",
       "attribute3       44\n",
       "attribute4       67\n",
       "attribute5       58\n",
       "attribute6     1134\n",
       "attribute7       22\n",
       "attribute9       63\n",
       "season            4\n",
       "worked_days     104\n",
       "device_type       7\n",
       "dtype: int64"
      ]
     },
     "execution_count": 154,
     "metadata": {},
     "output_type": "execute_result"
    }
   ],
   "source": [
    "df_last.nunique()"
   ]
  },
  {
   "cell_type": "code",
   "execution_count": 156,
   "metadata": {
    "executionInfo": {
     "elapsed": 2,
     "status": "ok",
     "timestamp": 1660311553870,
     "user": {
      "displayName": "Zahmet Yılmaz",
      "userId": "12121815919257021566"
     },
     "user_tz": -180
    },
    "id": "PhnEc-OlRxmW"
   },
   "outputs": [],
   "source": [
    "df_last['attribute7'] = df_last['attribute7'].astype('object') # sayi olamayacak kadar az unique degeri var"
   ]
  },
  {
   "cell_type": "markdown",
   "metadata": {
    "id": "v3O74nC0HwIk"
   },
   "source": [
    "## Undersampling and Classification (Without data cleaning etc)"
   ]
  },
  {
   "cell_type": "code",
   "execution_count": 158,
   "metadata": {
    "executionInfo": {
     "elapsed": 2,
     "status": "ok",
     "timestamp": 1660311742037,
     "user": {
      "displayName": "Zahmet Yılmaz",
      "userId": "12121815919257021566"
     },
     "user_tz": -180
    },
    "id": "O06nX7M1GE8t"
   },
   "outputs": [],
   "source": [
    "from imblearn.under_sampling import RandomUnderSampler\n",
    "rus = RandomUnderSampler(random_state=4)\n",
    "x,y = rus.fit_resample(df_last.drop(columns=['failure']), df_last.failure)"
   ]
  },
  {
   "cell_type": "code",
   "execution_count": 166,
   "metadata": {
    "executionInfo": {
     "elapsed": 518,
     "status": "ok",
     "timestamp": 1660313040445,
     "user": {
      "displayName": "Zahmet Yılmaz",
      "userId": "12121815919257021566"
     },
     "user_tz": -180
    },
    "id": "gucZqwoqTqcS"
   },
   "outputs": [],
   "source": [
    "x_dummies = pd.get_dummies(x, drop_first=True)"
   ]
  },
  {
   "cell_type": "code",
   "execution_count": 167,
   "metadata": {
    "colab": {
     "base_uri": "https://localhost:8080/",
     "height": 394
    },
    "executionInfo": {
     "elapsed": 536,
     "status": "ok",
     "timestamp": 1660313042329,
     "user": {
      "displayName": "Zahmet Yılmaz",
      "userId": "12121815919257021566"
     },
     "user_tz": -180
    },
    "id": "TDemVgr1cwUw",
    "outputId": "d7ac77e9-1f20-4a6a-e41e-c9744e0cbca4"
   },
   "outputs": [
    {
     "data": {
      "text/html": [
       "\n",
       "  <div id=\"df-d8984541-bb8b-45a1-8840-49b0edef97a2\">\n",
       "    <div class=\"colab-df-container\">\n",
       "      <div>\n",
       "<style scoped>\n",
       "    .dataframe tbody tr th:only-of-type {\n",
       "        vertical-align: middle;\n",
       "    }\n",
       "\n",
       "    .dataframe tbody tr th {\n",
       "        vertical-align: top;\n",
       "    }\n",
       "\n",
       "    .dataframe thead th {\n",
       "        text-align: right;\n",
       "    }\n",
       "</style>\n",
       "<table border=\"1\" class=\"dataframe\">\n",
       "  <thead>\n",
       "    <tr style=\"text-align: right;\">\n",
       "      <th></th>\n",
       "      <th>AccuracyScore</th>\n",
       "      <th>PrecisionScore</th>\n",
       "      <th>RecallScore</th>\n",
       "      <th>f1_Score</th>\n",
       "    </tr>\n",
       "  </thead>\n",
       "  <tbody>\n",
       "    <tr>\n",
       "      <th>GradientBoosting</th>\n",
       "      <td>0.951220</td>\n",
       "      <td>1.000000</td>\n",
       "      <td>0.90</td>\n",
       "      <td>0.947368</td>\n",
       "    </tr>\n",
       "    <tr>\n",
       "      <th>XGBClassifier</th>\n",
       "      <td>0.926829</td>\n",
       "      <td>0.947368</td>\n",
       "      <td>0.90</td>\n",
       "      <td>0.923077</td>\n",
       "    </tr>\n",
       "    <tr>\n",
       "      <th>AdaBoost</th>\n",
       "      <td>0.902439</td>\n",
       "      <td>1.000000</td>\n",
       "      <td>0.80</td>\n",
       "      <td>0.888889</td>\n",
       "    </tr>\n",
       "    <tr>\n",
       "      <th>DecisionTree</th>\n",
       "      <td>0.878049</td>\n",
       "      <td>0.941176</td>\n",
       "      <td>0.80</td>\n",
       "      <td>0.864865</td>\n",
       "    </tr>\n",
       "    <tr>\n",
       "      <th>RandomForest</th>\n",
       "      <td>0.829268</td>\n",
       "      <td>1.000000</td>\n",
       "      <td>0.65</td>\n",
       "      <td>0.787879</td>\n",
       "    </tr>\n",
       "    <tr>\n",
       "      <th>Bernoulli</th>\n",
       "      <td>0.780488</td>\n",
       "      <td>0.866667</td>\n",
       "      <td>0.65</td>\n",
       "      <td>0.742857</td>\n",
       "    </tr>\n",
       "    <tr>\n",
       "      <th>SVC</th>\n",
       "      <td>0.560976</td>\n",
       "      <td>0.545455</td>\n",
       "      <td>0.60</td>\n",
       "      <td>0.571429</td>\n",
       "    </tr>\n",
       "    <tr>\n",
       "      <th>MultinominalNB</th>\n",
       "      <td>0.609756</td>\n",
       "      <td>0.642857</td>\n",
       "      <td>0.45</td>\n",
       "      <td>0.529412</td>\n",
       "    </tr>\n",
       "    <tr>\n",
       "      <th>KNeighbors</th>\n",
       "      <td>0.585366</td>\n",
       "      <td>0.600000</td>\n",
       "      <td>0.45</td>\n",
       "      <td>0.514286</td>\n",
       "    </tr>\n",
       "    <tr>\n",
       "      <th>LogisticReg</th>\n",
       "      <td>0.658537</td>\n",
       "      <td>0.875000</td>\n",
       "      <td>0.35</td>\n",
       "      <td>0.500000</td>\n",
       "    </tr>\n",
       "    <tr>\n",
       "      <th>Gaussian</th>\n",
       "      <td>0.536585</td>\n",
       "      <td>1.000000</td>\n",
       "      <td>0.05</td>\n",
       "      <td>0.095238</td>\n",
       "    </tr>\n",
       "  </tbody>\n",
       "</table>\n",
       "</div>\n",
       "      <button class=\"colab-df-convert\" onclick=\"convertToInteractive('df-d8984541-bb8b-45a1-8840-49b0edef97a2')\"\n",
       "              title=\"Convert this dataframe to an interactive table.\"\n",
       "              style=\"display:none;\">\n",
       "        \n",
       "  <svg xmlns=\"http://www.w3.org/2000/svg\" height=\"24px\"viewBox=\"0 0 24 24\"\n",
       "       width=\"24px\">\n",
       "    <path d=\"M0 0h24v24H0V0z\" fill=\"none\"/>\n",
       "    <path d=\"M18.56 5.44l.94 2.06.94-2.06 2.06-.94-2.06-.94-.94-2.06-.94 2.06-2.06.94zm-11 1L8.5 8.5l.94-2.06 2.06-.94-2.06-.94L8.5 2.5l-.94 2.06-2.06.94zm10 10l.94 2.06.94-2.06 2.06-.94-2.06-.94-.94-2.06-.94 2.06-2.06.94z\"/><path d=\"M17.41 7.96l-1.37-1.37c-.4-.4-.92-.59-1.43-.59-.52 0-1.04.2-1.43.59L10.3 9.45l-7.72 7.72c-.78.78-.78 2.05 0 2.83L4 21.41c.39.39.9.59 1.41.59.51 0 1.02-.2 1.41-.59l7.78-7.78 2.81-2.81c.8-.78.8-2.07 0-2.86zM5.41 20L4 18.59l7.72-7.72 1.47 1.35L5.41 20z\"/>\n",
       "  </svg>\n",
       "      </button>\n",
       "      \n",
       "  <style>\n",
       "    .colab-df-container {\n",
       "      display:flex;\n",
       "      flex-wrap:wrap;\n",
       "      gap: 12px;\n",
       "    }\n",
       "\n",
       "    .colab-df-convert {\n",
       "      background-color: #E8F0FE;\n",
       "      border: none;\n",
       "      border-radius: 50%;\n",
       "      cursor: pointer;\n",
       "      display: none;\n",
       "      fill: #1967D2;\n",
       "      height: 32px;\n",
       "      padding: 0 0 0 0;\n",
       "      width: 32px;\n",
       "    }\n",
       "\n",
       "    .colab-df-convert:hover {\n",
       "      background-color: #E2EBFA;\n",
       "      box-shadow: 0px 1px 2px rgba(60, 64, 67, 0.3), 0px 1px 3px 1px rgba(60, 64, 67, 0.15);\n",
       "      fill: #174EA6;\n",
       "    }\n",
       "\n",
       "    [theme=dark] .colab-df-convert {\n",
       "      background-color: #3B4455;\n",
       "      fill: #D2E3FC;\n",
       "    }\n",
       "\n",
       "    [theme=dark] .colab-df-convert:hover {\n",
       "      background-color: #434B5C;\n",
       "      box-shadow: 0px 1px 3px 1px rgba(0, 0, 0, 0.15);\n",
       "      filter: drop-shadow(0px 1px 2px rgba(0, 0, 0, 0.3));\n",
       "      fill: #FFFFFF;\n",
       "    }\n",
       "  </style>\n",
       "\n",
       "      <script>\n",
       "        const buttonEl =\n",
       "          document.querySelector('#df-d8984541-bb8b-45a1-8840-49b0edef97a2 button.colab-df-convert');\n",
       "        buttonEl.style.display =\n",
       "          google.colab.kernel.accessAllowed ? 'block' : 'none';\n",
       "\n",
       "        async function convertToInteractive(key) {\n",
       "          const element = document.querySelector('#df-d8984541-bb8b-45a1-8840-49b0edef97a2');\n",
       "          const dataTable =\n",
       "            await google.colab.kernel.invokeFunction('convertToInteractive',\n",
       "                                                     [key], {});\n",
       "          if (!dataTable) return;\n",
       "\n",
       "          const docLinkHtml = 'Like what you see? Visit the ' +\n",
       "            '<a target=\"_blank\" href=https://colab.research.google.com/notebooks/data_table.ipynb>data table notebook</a>'\n",
       "            + ' to learn more about interactive tables.';\n",
       "          element.innerHTML = '';\n",
       "          dataTable['output_type'] = 'display_data';\n",
       "          await google.colab.output.renderOutput(dataTable, element);\n",
       "          const docLink = document.createElement('div');\n",
       "          docLink.innerHTML = docLinkHtml;\n",
       "          element.appendChild(docLink);\n",
       "        }\n",
       "      </script>\n",
       "    </div>\n",
       "  </div>\n",
       "  "
      ],
      "text/plain": [
       "                  AccuracyScore  PrecisionScore  RecallScore  f1_Score\n",
       "GradientBoosting       0.951220        1.000000         0.90  0.947368\n",
       "XGBClassifier          0.926829        0.947368         0.90  0.923077\n",
       "AdaBoost               0.902439        1.000000         0.80  0.888889\n",
       "DecisionTree           0.878049        0.941176         0.80  0.864865\n",
       "RandomForest           0.829268        1.000000         0.65  0.787879\n",
       "Bernoulli              0.780488        0.866667         0.65  0.742857\n",
       "SVC                    0.560976        0.545455         0.60  0.571429\n",
       "MultinominalNB         0.609756        0.642857         0.45  0.529412\n",
       "KNeighbors             0.585366        0.600000         0.45  0.514286\n",
       "LogisticReg            0.658537        0.875000         0.35  0.500000\n",
       "Gaussian               0.536585        1.000000         0.05  0.095238"
      ]
     },
     "execution_count": 167,
     "metadata": {},
     "output_type": "execute_result"
    }
   ],
   "source": [
    "classification_(x_dummies, y) # classification_ function has own train_test_split"
   ]
  },
  {
   "cell_type": "markdown",
   "metadata": {
    "id": "8fEdpkxHTQRM"
   },
   "source": [
    "## Deep Learning"
   ]
  },
  {
   "cell_type": "code",
   "execution_count": 170,
   "metadata": {
    "executionInfo": {
     "elapsed": 2,
     "status": "ok",
     "timestamp": 1660313157811,
     "user": {
      "displayName": "Zahmet Yılmaz",
      "userId": "12121815919257021566"
     },
     "user_tz": -180
    },
    "id": "ta72K1P9TeNc"
   },
   "outputs": [],
   "source": [
    "x_train, x_test, y_train, y_test = train_test_split(x_dummies, y, test_size=.2, random_state=4)"
   ]
  },
  {
   "cell_type": "code",
   "execution_count": 171,
   "metadata": {
    "colab": {
     "base_uri": "https://localhost:8080/"
    },
    "executionInfo": {
     "elapsed": 9687,
     "status": "ok",
     "timestamp": 1660313182598,
     "user": {
      "displayName": "Zahmet Yılmaz",
      "userId": "12121815919257021566"
     },
     "user_tz": -180
    },
    "id": "3aiU1YYKTHxw",
    "outputId": "7fdfd13a-98fb-40c4-a615-e3d94a259483"
   },
   "outputs": [
    {
     "name": "stdout",
     "output_type": "stream",
     "text": [
      "Epoch 1/40\n",
      "2/2 [==============================] - 3s 190ms/step - loss: 10287763.0000 - accuracy: 0.0994 - val_loss: 1713700.1250 - val_accuracy: 0.4634\n",
      "Epoch 2/40\n",
      "2/2 [==============================] - 0s 24ms/step - loss: 1616982.6250 - accuracy: 0.4907 - val_loss: 578741.7500 - val_accuracy: 0.4634\n",
      "Epoch 3/40\n",
      "2/2 [==============================] - 0s 23ms/step - loss: 913165.9375 - accuracy: 0.5652 - val_loss: 168920.2656 - val_accuracy: 0.5366\n",
      "Epoch 4/40\n",
      "2/2 [==============================] - 0s 24ms/step - loss: 1119431.5000 - accuracy: 0.4783 - val_loss: 726195.1875 - val_accuracy: 0.4634\n",
      "Epoch 5/40\n",
      "2/2 [==============================] - 0s 41ms/step - loss: 1560567.6250 - accuracy: 0.4348 - val_loss: 928288.1250 - val_accuracy: 0.4634\n",
      "Epoch 6/40\n",
      "2/2 [==============================] - 0s 23ms/step - loss: 1052035.3750 - accuracy: 0.4845 - val_loss: 927691.6250 - val_accuracy: 0.5366\n",
      "Epoch 7/40\n",
      "2/2 [==============================] - 0s 24ms/step - loss: 1612551.8750 - accuracy: 0.4596 - val_loss: 457922.4375 - val_accuracy: 0.4634\n",
      "Epoch 8/40\n",
      "2/2 [==============================] - 0s 26ms/step - loss: 928438.1875 - accuracy: 0.4907 - val_loss: 676578.6250 - val_accuracy: 0.4634\n",
      "Epoch 9/40\n",
      "2/2 [==============================] - 0s 31ms/step - loss: 925600.0000 - accuracy: 0.5342 - val_loss: 501095.4062 - val_accuracy: 0.5366\n",
      "Epoch 10/40\n",
      "2/2 [==============================] - 0s 23ms/step - loss: 916659.3750 - accuracy: 0.4658 - val_loss: 122535.0703 - val_accuracy: 0.4634\n",
      "Epoch 11/40\n",
      "2/2 [==============================] - 0s 24ms/step - loss: 671558.1875 - accuracy: 0.5342 - val_loss: 739116.5000 - val_accuracy: 0.4634\n",
      "Epoch 12/40\n",
      "2/2 [==============================] - 0s 24ms/step - loss: 823038.6250 - accuracy: 0.5031 - val_loss: 82472.8750 - val_accuracy: 0.4634\n",
      "Epoch 13/40\n",
      "2/2 [==============================] - 0s 24ms/step - loss: 493922.6250 - accuracy: 0.4658 - val_loss: 214038.8281 - val_accuracy: 0.5366\n",
      "Epoch 14/40\n",
      "2/2 [==============================] - 0s 24ms/step - loss: 449066.4375 - accuracy: 0.5404 - val_loss: 351369.2812 - val_accuracy: 0.4634\n",
      "Epoch 15/40\n",
      "2/2 [==============================] - 0s 23ms/step - loss: 457181.1250 - accuracy: 0.5093 - val_loss: 467062.4375 - val_accuracy: 0.4634\n",
      "Epoch 16/40\n",
      "2/2 [==============================] - 0s 25ms/step - loss: 470804.3750 - accuracy: 0.4534 - val_loss: 31439.1895 - val_accuracy: 0.5366\n",
      "Epoch 17/40\n",
      "2/2 [==============================] - 0s 24ms/step - loss: 316141.0312 - accuracy: 0.5528 - val_loss: 102473.3516 - val_accuracy: 0.5366\n",
      "Epoch 18/40\n",
      "2/2 [==============================] - 0s 23ms/step - loss: 203655.1094 - accuracy: 0.5528 - val_loss: 3537.5430 - val_accuracy: 0.4390\n",
      "Epoch 19/40\n",
      "2/2 [==============================] - 0s 22ms/step - loss: 210567.6094 - accuracy: 0.4658 - val_loss: 3461.7996 - val_accuracy: 0.4634\n",
      "Epoch 20/40\n",
      "2/2 [==============================] - 0s 23ms/step - loss: 214928.4688 - accuracy: 0.5217 - val_loss: 4116.1401 - val_accuracy: 0.5366\n",
      "Epoch 21/40\n",
      "2/2 [==============================] - 0s 24ms/step - loss: 184671.9062 - accuracy: 0.4907 - val_loss: 50657.3594 - val_accuracy: 0.5366\n",
      "Epoch 22/40\n",
      "2/2 [==============================] - 0s 23ms/step - loss: 150948.2969 - accuracy: 0.5590 - val_loss: 55759.0469 - val_accuracy: 0.5366\n",
      "Epoch 23/40\n",
      "2/2 [==============================] - 0s 29ms/step - loss: 189608.7969 - accuracy: 0.5155 - val_loss: 30891.9141 - val_accuracy: 0.5366\n",
      "Epoch 24/40\n",
      "2/2 [==============================] - 0s 23ms/step - loss: 206317.6250 - accuracy: 0.4596 - val_loss: 68645.9844 - val_accuracy: 0.5366\n",
      "Epoch 25/40\n",
      "2/2 [==============================] - 0s 23ms/step - loss: 153841.9062 - accuracy: 0.5093 - val_loss: 79505.7109 - val_accuracy: 0.5366\n",
      "Epoch 26/40\n",
      "2/2 [==============================] - 0s 24ms/step - loss: 132501.8125 - accuracy: 0.4596 - val_loss: 66994.4766 - val_accuracy: 0.5366\n",
      "Epoch 27/40\n",
      "2/2 [==============================] - 0s 23ms/step - loss: 116590.7422 - accuracy: 0.4907 - val_loss: 45023.6602 - val_accuracy: 0.5366\n",
      "Epoch 28/40\n",
      "2/2 [==============================] - 0s 24ms/step - loss: 87294.6016 - accuracy: 0.5963 - val_loss: 74161.9219 - val_accuracy: 0.5366\n",
      "Epoch 29/40\n",
      "2/2 [==============================] - 0s 28ms/step - loss: 129780.0000 - accuracy: 0.5093 - val_loss: 91540.6250 - val_accuracy: 0.5366\n",
      "Epoch 30/40\n",
      "2/2 [==============================] - 0s 24ms/step - loss: 171812.5156 - accuracy: 0.4658 - val_loss: 33706.7109 - val_accuracy: 0.5366\n",
      "Epoch 31/40\n",
      "2/2 [==============================] - 0s 24ms/step - loss: 100362.2969 - accuracy: 0.5217 - val_loss: 45598.1328 - val_accuracy: 0.5366\n",
      "Epoch 32/40\n",
      "2/2 [==============================] - 0s 23ms/step - loss: 93536.5312 - accuracy: 0.4969 - val_loss: 86096.7109 - val_accuracy: 0.5366\n",
      "Epoch 33/40\n",
      "2/2 [==============================] - 0s 23ms/step - loss: 105350.7578 - accuracy: 0.5217 - val_loss: 89417.3281 - val_accuracy: 0.5366\n",
      "Epoch 34/40\n",
      "2/2 [==============================] - 0s 24ms/step - loss: 76189.4375 - accuracy: 0.5342 - val_loss: 43182.7422 - val_accuracy: 0.5366\n",
      "Epoch 35/40\n",
      "2/2 [==============================] - 0s 24ms/step - loss: 93312.8516 - accuracy: 0.4969 - val_loss: 26354.7676 - val_accuracy: 0.5366\n",
      "Epoch 36/40\n",
      "2/2 [==============================] - 0s 27ms/step - loss: 79447.5781 - accuracy: 0.5217 - val_loss: 23934.7617 - val_accuracy: 0.5366\n",
      "Epoch 37/40\n",
      "2/2 [==============================] - 0s 27ms/step - loss: 89939.1406 - accuracy: 0.4907 - val_loss: 25860.2598 - val_accuracy: 0.5366\n",
      "Epoch 38/40\n",
      "2/2 [==============================] - 0s 24ms/step - loss: 86843.6250 - accuracy: 0.4907 - val_loss: 35185.3281 - val_accuracy: 0.5366\n",
      "Epoch 39/40\n",
      "2/2 [==============================] - 0s 23ms/step - loss: 60747.9336 - accuracy: 0.4907 - val_loss: 27198.5801 - val_accuracy: 0.5366\n",
      "Epoch 40/40\n",
      "2/2 [==============================] - 0s 23ms/step - loss: 53948.3906 - accuracy: 0.5714 - val_loss: 5459.4893 - val_accuracy: 0.5366\n"
     ]
    }
   ],
   "source": [
    "import tensorflow as tf\n",
    "model = tf.keras.Sequential([\n",
    "                             tf.keras.layers.Dense(512, activation='relu'),\n",
    "                             tf.keras.layers.Dense(512, activation='relu'),\n",
    "                             tf.keras.layers.Dropout(0.25),\n",
    "                             tf.keras.layers.Flatten(),\n",
    "                             tf.keras.layers.Dense(512, activation='relu'),\n",
    "                             tf.keras.layers.Dropout(0.50),\n",
    "                             tf.keras.layers.Dense(512, activation='relu'),\n",
    "                             tf.keras.layers.Dense(512, activation='softmax'),])\n",
    "\n",
    "model.compile(optimizer='adam', loss='sparse_categorical_crossentropy', metrics=['accuracy'])\n",
    "history = model.fit(x_train,y_train, batch_size=128, epochs=40, verbose=1, validation_data=(x_test,y_test))"
   ]
  },
  {
   "cell_type": "code",
   "execution_count": 172,
   "metadata": {
    "colab": {
     "base_uri": "https://localhost:8080/"
    },
    "executionInfo": {
     "elapsed": 519,
     "status": "ok",
     "timestamp": 1660313194048,
     "user": {
      "displayName": "Zahmet Yılmaz",
      "userId": "12121815919257021566"
     },
     "user_tz": -180
    },
    "id": "mOD-2MfNYGQ_",
    "outputId": "ec525ef0-c97f-46b5-9bf9-19c1e9eb9312"
   },
   "outputs": [
    {
     "name": "stdout",
     "output_type": "stream",
     "text": [
      "2/2 [==============================] - 0s 10ms/step - loss: 5459.5015 - accuracy: 0.5366\n",
      "Accuracy: 53.66\n"
     ]
    }
   ],
   "source": [
    "_, accuracy=model.evaluate(x_test, y_test)\n",
    "print('Accuracy: %.2f' % (accuracy*100)) # Accuracy dusuk cunku kullandigimiz data az"
   ]
  }
 ],
 "metadata": {
  "accelerator": "GPU",
  "colab": {
   "authorship_tag": "ABX9TyMa2XBxGAM1vyMB19rkfxmo",
   "collapsed_sections": [],
   "mount_file_id": "1OImZiItSh26vItT_EQaOKLppx1Ehcx_i",
   "name": "predictive maintenance model.ipynb",
   "provenance": []
  },
  "gpuClass": "standard",
  "kernelspec": {
   "display_name": "Python 3 (ipykernel)",
   "language": "python",
   "name": "python3"
  },
  "language_info": {
   "codemirror_mode": {
    "name": "ipython",
    "version": 3
   },
   "file_extension": ".py",
   "mimetype": "text/x-python",
   "name": "python",
   "nbconvert_exporter": "python",
   "pygments_lexer": "ipython3",
   "version": "3.9.12"
  },
  "varInspector": {
   "cols": {
    "lenName": 16,
    "lenType": 16,
    "lenVar": 40
   },
   "kernels_config": {
    "python": {
     "delete_cmd_postfix": "",
     "delete_cmd_prefix": "del ",
     "library": "var_list.py",
     "varRefreshCmd": "print(var_dic_list())"
    },
    "r": {
     "delete_cmd_postfix": ") ",
     "delete_cmd_prefix": "rm(",
     "library": "var_list.r",
     "varRefreshCmd": "cat(var_dic_list()) "
    }
   },
   "types_to_exclude": [
    "module",
    "function",
    "builtin_function_or_method",
    "instance",
    "_Feature"
   ],
   "window_display": false
  }
 },
 "nbformat": 4,
 "nbformat_minor": 1
}
